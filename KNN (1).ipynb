{
 "cells": [
  {
   "cell_type": "code",
   "execution_count": 1,
   "id": "593f010b-bbc2-40ce-82b0-d75320f440bd",
   "metadata": {},
   "outputs": [
    {
     "name": "stdout",
     "output_type": "stream",
     "text": [
      "Defaulting to user installation because normal site-packages is not writeable\n",
      "Requirement already satisfied: scikit-learn in c:\\programdata\\anaconda3\\lib\\site-packages (1.0.2)\n",
      "Requirement already satisfied: numpy>=1.14.6 in c:\\users\\admin\\appdata\\roaming\\python\\python39\\site-packages (from scikit-learn) (1.24.4)\n",
      "Requirement already satisfied: threadpoolctl>=2.0.0 in c:\\programdata\\anaconda3\\lib\\site-packages (from scikit-learn) (2.2.0)\n",
      "Requirement already satisfied: joblib>=0.11 in c:\\programdata\\anaconda3\\lib\\site-packages (from scikit-learn) (1.1.0)\n",
      "Requirement already satisfied: scipy>=1.1.0 in c:\\programdata\\anaconda3\\lib\\site-packages (from scikit-learn) (1.9.1)\n",
      "Defaulting to user installation because normal site-packages is not writeable\n",
      "Requirement already satisfied: missingno in c:\\users\\admin\\appdata\\roaming\\python\\python39\\site-packages (0.5.2)\n",
      "Requirement already satisfied: seaborn in c:\\programdata\\anaconda3\\lib\\site-packages (from missingno) (0.11.2)\n",
      "Requirement already satisfied: numpy in c:\\users\\admin\\appdata\\roaming\\python\\python39\\site-packages (from missingno) (1.24.4)\n",
      "Requirement already satisfied: matplotlib in c:\\programdata\\anaconda3\\lib\\site-packages (from missingno) (3.5.2)\n",
      "Requirement already satisfied: scipy in c:\\programdata\\anaconda3\\lib\\site-packages (from missingno) (1.9.1)\n",
      "Requirement already satisfied: python-dateutil>=2.7 in c:\\programdata\\anaconda3\\lib\\site-packages (from matplotlib->missingno) (2.8.2)\n",
      "Requirement already satisfied: fonttools>=4.22.0 in c:\\programdata\\anaconda3\\lib\\site-packages (from matplotlib->missingno) (4.25.0)\n",
      "Requirement already satisfied: kiwisolver>=1.0.1 in c:\\programdata\\anaconda3\\lib\\site-packages (from matplotlib->missingno) (1.4.2)\n",
      "Requirement already satisfied: pillow>=6.2.0 in c:\\programdata\\anaconda3\\lib\\site-packages (from matplotlib->missingno) (9.2.0)\n",
      "Requirement already satisfied: pyparsing>=2.2.1 in c:\\programdata\\anaconda3\\lib\\site-packages (from matplotlib->missingno) (3.0.9)\n",
      "Requirement already satisfied: cycler>=0.10 in c:\\programdata\\anaconda3\\lib\\site-packages (from matplotlib->missingno) (0.11.0)\n",
      "Requirement already satisfied: packaging>=20.0 in c:\\programdata\\anaconda3\\lib\\site-packages (from matplotlib->missingno) (21.3)\n",
      "Requirement already satisfied: pandas>=0.23 in c:\\programdata\\anaconda3\\lib\\site-packages (from seaborn->missingno) (1.4.4)\n",
      "Requirement already satisfied: pytz>=2020.1 in c:\\programdata\\anaconda3\\lib\\site-packages (from pandas>=0.23->seaborn->missingno) (2022.1)\n",
      "Requirement already satisfied: six>=1.5 in c:\\programdata\\anaconda3\\lib\\site-packages (from python-dateutil>=2.7->matplotlib->missingno) (1.16.0)\n"
     ]
    }
   ],
   "source": [
    "!pip install scikit-learn\n",
    "!pip install missingno"
   ]
  },
  {
   "cell_type": "code",
   "execution_count": 2,
   "id": "6bf75cfb-10ff-45bc-9f4a-d605bb7d6df1",
   "metadata": {},
   "outputs": [],
   "source": [
    "import numpy as np # linear algebra\n",
    "import pandas as pd # data processing, CSV file I/O (e.g. pd.read_csv)\n",
    "import missingno as msno\n",
    "from sklearn.preprocessing import StandardScaler\n",
    "from sklearn.naive_bayes import GaussianNB\n",
    "import matplotlib.pyplot as plt\n",
    "import seaborn as sns\n",
    "from warnings import simplefilter\n",
    "simplefilter(\"ignore\")\n",
    "from sklearn.preprocessing import LabelEncoder\n",
    "from sklearn.model_selection import train_test_split\n",
    "from sklearn.metrics import classification_report, confusion_matrix, accuracy_score"
   ]
  },
  {
   "cell_type": "code",
   "execution_count": 3,
   "id": "93b6a3be-4a8c-436e-a35c-cf7c8f67142e",
   "metadata": {},
   "outputs": [],
   "source": [
    "data=pd.read_csv('E:/ML/RT_IOT2022.csv')"
   ]
  },
  {
   "cell_type": "code",
   "execution_count": 4,
   "id": "ef5a4f58-22ae-40b1-bcbe-d7ae9dc3dbc3",
   "metadata": {},
   "outputs": [],
   "source": [
    "# Handling missing values\n",
    "data = data.dropna()"
   ]
  },
  {
   "cell_type": "code",
   "execution_count": 5,
   "id": "3c38aaa7-ef77-4362-877c-05997787bca2",
   "metadata": {},
   "outputs": [
    {
     "name": "stdout",
     "output_type": "stream",
     "text": [
      "proto\n",
      "tcp     110427\n",
      "udp      12633\n",
      "icmp        57\n",
      "Name: proto, dtype: int64\n",
      "----------------------------\n",
      "service\n",
      "-         102861\n",
      "dns         9753\n",
      "mqtt        4132\n",
      "http        3464\n",
      "ssl         2663\n",
      "ntp          121\n",
      "dhcp          50\n",
      "irc           43\n",
      "ssh           28\n",
      "radius         2\n",
      "Name: service, dtype: int64\n",
      "----------------------------\n",
      "Attack_type\n",
      "DOS_SYN_Hping                 94659\n",
      "Thing_Speak                    8108\n",
      "ARP_poisioning                 7750\n",
      "MQTT_Publish                   4146\n",
      "NMAP_UDP_SCAN                  2590\n",
      "NMAP_XMAS_TREE_SCAN            2010\n",
      "NMAP_OS_DETECTION              2000\n",
      "NMAP_TCP_scan                  1002\n",
      "DDOS_Slowloris                  534\n",
      "Wipro_bulb                      253\n",
      "Metasploit_Brute_Force_SSH       37\n",
      "NMAP_FIN_SCAN                    28\n",
      "Name: Attack_type, dtype: int64\n",
      "----------------------------\n"
     ]
    }
   ],
   "source": [
    "# Encoding categorical variables if there are any\n",
    "categorical_columns = data.select_dtypes(include=['object']).columns\n",
    "\n",
    "for column in categorical_columns:\n",
    "    print(column)\n",
    "    print(data[column].value_counts())\n",
    "    print(\"----------------------------\")"
   ]
  },
  {
   "cell_type": "code",
   "execution_count": 6,
   "id": "9f05dfe3-5504-430a-aa5b-aae294ccc16e",
   "metadata": {},
   "outputs": [],
   "source": [
    "# Initialize LabelEncoder\n",
    "label_encoder = LabelEncoder()"
   ]
  },
  {
   "cell_type": "code",
   "execution_count": 7,
   "id": "280c12dc-851b-44df-be42-6eb25c947e40",
   "metadata": {},
   "outputs": [],
   "source": [
    "# Delete the target label column and the id classification column for the train data\n",
    "X = data.drop(columns=['Attack_type'])\n",
    "X.drop(columns=['Unnamed: 0', 'id.orig_p', 'id.resp_p'], inplace=True)"
   ]
  },
  {
   "cell_type": "code",
   "execution_count": 8,
   "id": "7f68eae3-e599-4433-94c7-3f4ac8e09645",
   "metadata": {},
   "outputs": [],
   "source": [
    "# encode input for non-numeric columns\n",
    "X['proto'] = label_encoder.fit_transform(X['proto'])\n",
    "X['service'] = label_encoder.fit_transform(X['service'])\n",
    "target='Attack_type'\n",
    "y = label_encoder.fit_transform(data[target])"
   ]
  },
  {
   "cell_type": "code",
   "execution_count": 9,
   "id": "9b9d93ce-9ca8-4d9a-a370-dcc2c6e94947",
   "metadata": {},
   "outputs": [],
   "source": [
    "# Divide the data into training set and test set\n",
    "X_train, X_test, y_train, y_test = train_test_split(X, y, test_size=0.2, random_state=42)"
   ]
  },
  {
   "cell_type": "code",
   "execution_count": 10,
   "id": "a14aad76-a01b-48cf-883f-536f41d3ef1c",
   "metadata": {},
   "outputs": [],
   "source": [
    "# Standardize the features\n",
    "scaler = StandardScaler()\n",
    "X_train = scaler.fit_transform(X_train)\n",
    "X_test = scaler.transform(X_test)"
   ]
  },
  {
   "cell_type": "code",
   "execution_count": 11,
   "id": "011b0cdb-ff53-482c-93a6-097e9db8cd5d",
   "metadata": {},
   "outputs": [],
   "source": [
    "from sklearn.neighbors import KNeighborsClassifier\n",
    "# Create a KNN classifier\n",
    "knn = KNeighborsClassifier(n_neighbors=5)  # n_neighbors is the number of neighbors to use"
   ]
  },
  {
   "cell_type": "code",
   "execution_count": 12,
   "id": "ff347e81-0d74-4aef-8493-2ed6015146fa",
   "metadata": {},
   "outputs": [
    {
     "data": {
      "text/plain": [
       "KNeighborsClassifier()"
      ]
     },
     "execution_count": 12,
     "metadata": {},
     "output_type": "execute_result"
    }
   ],
   "source": [
    "# Train the model\n",
    "knn.fit(X_train, y_train)"
   ]
  },
  {
   "cell_type": "code",
   "execution_count": 13,
   "id": "5ec31dbe-f823-4916-85e0-e098df37661c",
   "metadata": {},
   "outputs": [],
   "source": [
    "# Make predictions\n",
    "y_pred = knn.predict(X_test)"
   ]
  },
  {
   "cell_type": "code",
   "execution_count": 16,
   "id": "6bef9ab9-dfd5-4cc8-a894-8ba9ca85124a",
   "metadata": {},
   "outputs": [
    {
     "name": "stdout",
     "output_type": "stream",
     "text": [
      "Accuracy: 0.9943957115009746\n",
      "\n",
      "Classification Report:\n",
      "               precision    recall  f1-score   support\n",
      "\n",
      "           0       0.95      0.98      0.97      1578\n",
      "           1       0.92      0.87      0.89       100\n",
      "           2       1.00      1.00      1.00     18897\n",
      "           3       1.00      1.00      1.00       871\n",
      "           4       0.80      0.67      0.73         6\n",
      "           5       0.67      0.67      0.67         3\n",
      "           6       1.00      1.00      1.00       393\n",
      "           7       1.00      1.00      1.00       220\n",
      "           8       0.97      0.97      0.97       489\n",
      "           9       1.00      0.99      1.00       384\n",
      "          10       0.98      0.96      0.97      1625\n",
      "          11       1.00      0.81      0.90        58\n",
      "\n",
      "    accuracy                           0.99     24624\n",
      "   macro avg       0.94      0.91      0.92     24624\n",
      "weighted avg       0.99      0.99      0.99     24624\n",
      "\n",
      "\n",
      "Confusion Matrix:\n",
      " [[ 1545     1     0     2     1     0     0     0     0     0    29     0]\n",
      " [    2    87     0     0     0     0     0     0    10     0     1     0]\n",
      " [    0     0 18897     0     0     0     0     0     0     0     0     0]\n",
      " [    2     1     0   868     0     0     0     0     0     0     0     0]\n",
      " [    1     0     0     0     4     0     0     0     0     0     1     0]\n",
      " [    0     0     0     0     0     2     0     0     1     0     0     0]\n",
      " [    0     0     0     0     0     0   393     0     0     0     0     0]\n",
      " [    0     0     0     0     0     0     0   220     0     0     0     0]\n",
      " [    6     4     0     0     0     0     0     0   476     0     3     0]\n",
      " [    2     0     0     0     0     0     0     0     1   381     0     0]\n",
      " [   57     1     0     0     0     0     0     0     1     0  1566     0]\n",
      " [    3     1     0     2     0     1     1     0     0     0     3    47]]\n"
     ]
    },
    {
     "data": {
      "image/png": "[encoded data removed]",
      "text/plain": [
       "<Figure size 800x600 with 2 Axes>"
      ]
     },
     "metadata": {},
     "output_type": "display_data"
    }
   ],
   "source": [
    "# Evaluate the model\n",
    "print(\"Accuracy:\", accuracy_score(y_test, y_pred))\n",
    "print(\"\\nClassification Report:\\n\", classification_report(y_test, y_pred))\n",
    "print(\"\\nConfusion Matrix:\\n\", confusion_matrix(y_test, y_pred))\n",
    "\n",
    "# Visualize the confusion matrix\n",
    "plt.figure(figsize=(8, 6))\n",
    "sns.heatmap(confusion_matrix(y_test, y_pred), annot=True, fmt='d', cmap='Blues')\n",
    "plt.xlabel('Predicted Label')\n",
    "plt.ylabel('True Label')\n",
    "plt.title('Multi-class Confusion Matrix of KNN')\n",
    "plt.show()"
   ]
  },
  {
   "cell_type": "code",
   "execution_count": null,
   "id": "b338a6f6-5cb1-4797-80cb-9646cde2d6d9",
   "metadata": {},
   "outputs": [],
   "source": []
  }
 ],
 "metadata": {
  "kernelspec": {
   "display_name": "Python 3 (ipykernel)",
   "language": "python",
   "name": "python3"
  },
  "language_info": {
   "codemirror_mode": {
    "name": "ipython",
    "version": 3
   },
   "file_extension": ".py",
   "mimetype": "text/x-python",
   "name": "python",
   "nbconvert_exporter": "python",
   "pygments_lexer": "ipython3",
   "version": "3.9.13"
  }
 },
 "nbformat": 4,
 "nbformat_minor": 5
}
