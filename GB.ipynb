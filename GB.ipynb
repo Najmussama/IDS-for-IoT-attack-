{
 "cells": [
  {
   "cell_type": "code",
   "execution_count": 1,
   "id": "d95151e7-f657-4bed-a500-f06cce8f047d",
   "metadata": {},
   "outputs": [
    {
     "name": "stdout",
     "output_type": "stream",
     "text": [
      "Defaulting to user installation because normal site-packages is not writeable\n",
      "Requirement already satisfied: scikit-learn in c:\\programdata\\anaconda3\\lib\\site-packages (1.0.2)\n",
      "Requirement already satisfied: scipy>=1.1.0 in c:\\programdata\\anaconda3\\lib\\site-packages (from scikit-learn) (1.9.1)\n",
      "Requirement already satisfied: numpy>=1.14.6 in c:\\users\\admin\\appdata\\roaming\\python\\python39\\site-packages (from scikit-learn) (1.24.4)\n",
      "Requirement already satisfied: threadpoolctl>=2.0.0 in c:\\programdata\\anaconda3\\lib\\site-packages (from scikit-learn) (2.2.0)\n",
      "Requirement already satisfied: joblib>=0.11 in c:\\programdata\\anaconda3\\lib\\site-packages (from scikit-learn) (1.1.0)\n",
      "Defaulting to user installation because normal site-packages is not writeable\n",
      "Requirement already satisfied: missingno in c:\\users\\admin\\appdata\\roaming\\python\\python39\\site-packages (0.5.2)\n",
      "Requirement already satisfied: matplotlib in c:\\programdata\\anaconda3\\lib\\site-packages (from missingno) (3.5.2)\n",
      "Requirement already satisfied: numpy in c:\\users\\admin\\appdata\\roaming\\python\\python39\\site-packages (from missingno) (1.24.4)\n",
      "Requirement already satisfied: scipy in c:\\programdata\\anaconda3\\lib\\site-packages (from missingno) (1.9.1)\n",
      "Requirement already satisfied: seaborn in c:\\programdata\\anaconda3\\lib\\site-packages (from missingno) (0.11.2)\n",
      "Requirement already satisfied: pillow>=6.2.0 in c:\\programdata\\anaconda3\\lib\\site-packages (from matplotlib->missingno) (9.2.0)\n",
      "Requirement already satisfied: python-dateutil>=2.7 in c:\\programdata\\anaconda3\\lib\\site-packages (from matplotlib->missingno) (2.8.2)\n",
      "Requirement already satisfied: kiwisolver>=1.0.1 in c:\\programdata\\anaconda3\\lib\\site-packages (from matplotlib->missingno) (1.4.2)\n",
      "Requirement already satisfied: cycler>=0.10 in c:\\programdata\\anaconda3\\lib\\site-packages (from matplotlib->missingno) (0.11.0)\n",
      "Requirement already satisfied: fonttools>=4.22.0 in c:\\programdata\\anaconda3\\lib\\site-packages (from matplotlib->missingno) (4.25.0)\n",
      "Requirement already satisfied: packaging>=20.0 in c:\\programdata\\anaconda3\\lib\\site-packages (from matplotlib->missingno) (21.3)\n",
      "Requirement already satisfied: pyparsing>=2.2.1 in c:\\programdata\\anaconda3\\lib\\site-packages (from matplotlib->missingno) (3.0.9)\n",
      "Requirement already satisfied: pandas>=0.23 in c:\\programdata\\anaconda3\\lib\\site-packages (from seaborn->missingno) (1.4.4)\n",
      "Requirement already satisfied: pytz>=2020.1 in c:\\programdata\\anaconda3\\lib\\site-packages (from pandas>=0.23->seaborn->missingno) (2022.1)\n",
      "Requirement already satisfied: six>=1.5 in c:\\programdata\\anaconda3\\lib\\site-packages (from python-dateutil>=2.7->matplotlib->missingno) (1.16.0)\n"
     ]
    }
   ],
   "source": [
    "!pip install scikit-learn\n",
    "!pip install missingno"
   ]
  },
  {
   "cell_type": "code",
   "execution_count": 2,
   "id": "75852570-c4d1-47be-b550-69a18c0a411c",
   "metadata": {},
   "outputs": [],
   "source": [
    "import numpy as np # linear algebra\n",
    "import pandas as pd # data processing, CSV file I/O (e.g. pd.read_csv)\n",
    "import missingno as msno\n",
    "from sklearn.preprocessing import StandardScaler\n",
    "from sklearn.naive_bayes import GaussianNB\n",
    "import matplotlib.pyplot as plt\n",
    "import seaborn as sns\n",
    "from warnings import simplefilter\n",
    "simplefilter(\"ignore\")"
   ]
  },
  {
   "cell_type": "code",
   "execution_count": 3,
   "id": "7efbd919-61b5-4ffe-a28b-a38e80cbfd87",
   "metadata": {},
   "outputs": [],
   "source": [
    "data=pd.read_csv('E:/ML/RT_IOT2022.csv')"
   ]
  },
  {
   "cell_type": "code",
   "execution_count": 4,
   "id": "b94de3c7-30ab-4a08-be6a-1b09e262ae6f",
   "metadata": {},
   "outputs": [],
   "source": [
    "# Handling missing values\n",
    "data = data.dropna()"
   ]
  },
  {
   "cell_type": "code",
   "execution_count": 5,
   "id": "fa124655-a041-4197-b2cb-271cb38bc4ff",
   "metadata": {},
   "outputs": [
    {
     "name": "stdout",
     "output_type": "stream",
     "text": [
      "proto\n",
      "tcp     110427\n",
      "udp      12633\n",
      "icmp        57\n",
      "Name: proto, dtype: int64\n",
      "----------------------------\n",
      "service\n",
      "-         102861\n",
      "dns         9753\n",
      "mqtt        4132\n",
      "http        3464\n",
      "ssl         2663\n",
      "ntp          121\n",
      "dhcp          50\n",
      "irc           43\n",
      "ssh           28\n",
      "radius         2\n",
      "Name: service, dtype: int64\n",
      "----------------------------\n",
      "Attack_type\n",
      "DOS_SYN_Hping                 94659\n",
      "Thing_Speak                    8108\n",
      "ARP_poisioning                 7750\n",
      "MQTT_Publish                   4146\n",
      "NMAP_UDP_SCAN                  2590\n",
      "NMAP_XMAS_TREE_SCAN            2010\n",
      "NMAP_OS_DETECTION              2000\n",
      "NMAP_TCP_scan                  1002\n",
      "DDOS_Slowloris                  534\n",
      "Wipro_bulb                      253\n",
      "Metasploit_Brute_Force_SSH       37\n",
      "NMAP_FIN_SCAN                    28\n",
      "Name: Attack_type, dtype: int64\n",
      "----------------------------\n"
     ]
    }
   ],
   "source": [
    "# Encoding categorical variables if there are any\n",
    "categorical_columns = data.select_dtypes(include=['object']).columns\n",
    "\n",
    "for column in categorical_columns:\n",
    "    print(column)\n",
    "    print(data[column].value_counts())\n",
    "    print(\"----------------------------\")"
   ]
  },
  {
   "cell_type": "code",
   "execution_count": 6,
   "id": "381ffad6-321b-4464-85e8-b8e79e3a7058",
   "metadata": {},
   "outputs": [],
   "source": [
    "from sklearn.preprocessing import LabelEncoder\n",
    "# Initialize LabelEncoder\n",
    "label_encoder = LabelEncoder()"
   ]
  },
  {
   "cell_type": "code",
   "execution_count": 7,
   "id": "9a967323-4d9e-4dfb-a224-14eb861db774",
   "metadata": {},
   "outputs": [],
   "source": [
    "# Delete the target label column and the id classification column for the train data\n",
    "X = data.drop(columns=['Attack_type'])\n",
    "X.drop(columns=['Unnamed: 0', 'id.orig_p', 'id.resp_p'], inplace=True)"
   ]
  },
  {
   "cell_type": "code",
   "execution_count": 8,
   "id": "f1d5e1ae-f3ca-4cc0-a78c-ed360e6e8689",
   "metadata": {},
   "outputs": [],
   "source": [
    "# encode input for non-numeric columns\n",
    "X['proto'] = label_encoder.fit_transform(X['proto'])\n",
    "X['service'] = label_encoder.fit_transform(X['service'])\n",
    "target='Attack_type'\n",
    "y = label_encoder.fit_transform(data[target])"
   ]
  },
  {
   "cell_type": "code",
   "execution_count": 9,
   "id": "b0fae1ef-997b-4137-8399-59801d2c36bd",
   "metadata": {},
   "outputs": [],
   "source": [
    "# Divide the data into training set and test set\n",
    "from sklearn.model_selection import train_test_split\n",
    "X_train, X_test, y_train, y_test = train_test_split(X, y, test_size=0.2, random_state=42)"
   ]
  },
  {
   "cell_type": "code",
   "execution_count": 10,
   "id": "bc429ae0-2f80-455d-aa0e-7afe6fd97049",
   "metadata": {},
   "outputs": [],
   "source": [
    "# Standardize the features\n",
    "scaler = StandardScaler()\n",
    "X_train = scaler.fit_transform(X_train)\n",
    "X_test = scaler.transform(X_test)"
   ]
  },
  {
   "cell_type": "code",
   "execution_count": 11,
   "id": "4b6245ba-3e03-4241-8724-ac67c80001ed",
   "metadata": {},
   "outputs": [],
   "source": [
    "from sklearn.ensemble import GradientBoostingClassifier\n",
    "gbm = GradientBoostingClassifier(n_estimators=100, max_depth=3, learning_rate=0.1, random_state=42)"
   ]
  },
  {
   "cell_type": "code",
   "execution_count": 12,
   "id": "fff39f72-488e-4514-a15c-aed1580f633a",
   "metadata": {},
   "outputs": [
    {
     "data": {
      "text/plain": [
       "GradientBoostingClassifier(random_state=42)"
      ]
     },
     "execution_count": 12,
     "metadata": {},
     "output_type": "execute_result"
    }
   ],
   "source": [
    "# Train the model\n",
    "gbm.fit(X_train, y_train)"
   ]
  },
  {
   "cell_type": "code",
   "execution_count": 13,
   "id": "17513529-2422-4f5a-9c20-a94b672e0c27",
   "metadata": {},
   "outputs": [],
   "source": [
    "from sklearn.metrics import classification_report, confusion_matrix, accuracy_score\n",
    "# Make predictions\n",
    "y_pred = gbm.predict(X_test)\n"
   ]
  },
  {
   "cell_type": "code",
   "execution_count": 15,
   "id": "50fee5f3-bc61-4c59-b9af-89c837eddb66",
   "metadata": {},
   "outputs": [
    {
     "name": "stdout",
     "output_type": "stream",
     "text": [
      "Accuracy: 0.996385640025991\n",
      "\n",
      "Classification Report:\n",
      "               precision    recall  f1-score   support\n",
      "\n",
      "           0       0.97      0.99      0.98      1578\n",
      "           1       0.89      0.88      0.88       100\n",
      "           2       1.00      1.00      1.00     18897\n",
      "           3       1.00      1.00      1.00       871\n",
      "           4       0.83      0.83      0.83         6\n",
      "           5       0.67      0.67      0.67         3\n",
      "           6       1.00      1.00      1.00       393\n",
      "           7       1.00      1.00      1.00       220\n",
      "           8       0.98      0.97      0.97       489\n",
      "           9       1.00      0.99      1.00       384\n",
      "          10       0.99      0.98      0.98      1625\n",
      "          11       1.00      0.95      0.97        58\n",
      "\n",
      "    accuracy                           1.00     24624\n",
      "   macro avg       0.94      0.94      0.94     24624\n",
      "weighted avg       1.00      1.00      1.00     24624\n",
      "\n",
      "\n",
      "Confusion Matrix:\n",
      " [[ 1560     4     0     0     0     0     0     0     2     0    12     0]\n",
      " [    0    88     0     2     0     0     0     0    10     0     0     0]\n",
      " [    0     0 18897     0     0     0     0     0     0     0     0     0]\n",
      " [    1     0     0   870     0     0     0     0     0     0     0     0]\n",
      " [    1     0     0     0     5     0     0     0     0     0     0     0]\n",
      " [    1     0     0     0     0     2     0     0     0     0     0     0]\n",
      " [    0     0     0     0     0     0   393     0     0     0     0     0]\n",
      " [    0     0     0     0     0     0     0   220     0     0     0     0]\n",
      " [    6     7     0     0     1     0     0     0   474     0     1     0]\n",
      " [    2     0     0     0     0     0     0     0     0   381     1     0]\n",
      " [   34     0     0     0     0     1     0     0     0     0  1590     0]\n",
      " [    0     0     0     1     0     0     0     0     0     0     2    55]]\n"
     ]
    },
    {
     "data": {
      "image/png": "[encoded data removed]",
      "text/plain": [
       "<Figure size 800x600 with 2 Axes>"
      ]
     },
     "metadata": {},
     "output_type": "display_data"
    }
   ],
   "source": [
    "# Evaluate the model\n",
    "print(\"Accuracy:\", accuracy_score(y_test, y_pred))\n",
    "print(\"\\nClassification Report:\\n\", classification_report(y_test, y_pred))\n",
    "print(\"\\nConfusion Matrix:\\n\", confusion_matrix(y_test, y_pred))\n",
    "\n",
    "# Visualize the confusion matrix\n",
    "plt.figure(figsize=(8, 6))\n",
    "sns.heatmap(confusion_matrix(y_test, y_pred), annot=True, fmt='d', cmap='Blues')\n",
    "plt.xlabel('Predicted Label')\n",
    "plt.ylabel('True Label')\n",
    "plt.title('Multi-class Confusion Matrix of GB')\n",
    "plt.show()"
   ]
  },
  {
   "cell_type": "code",
   "execution_count": null,
   "id": "aac6b49c-ed8b-4b60-8c0a-f5f8e1bb044f",
   "metadata": {},
   "outputs": [],
   "source": []
  }
 ],
 "metadata": {
  "kernelspec": {
   "display_name": "Python 3 (ipykernel)",
   "language": "python",
   "name": "python3"
  },
  "language_info": {
   "codemirror_mode": {
    "name": "ipython",
    "version": 3
   },
   "file_extension": ".py",
   "mimetype": "text/x-python",
   "name": "python",
   "nbconvert_exporter": "python",
   "pygments_lexer": "ipython3",
   "version": "3.9.13"
  }
 },
 "nbformat": 4,
 "nbformat_minor": 5
}
