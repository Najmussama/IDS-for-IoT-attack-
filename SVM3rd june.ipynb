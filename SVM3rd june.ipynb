{
 "cells": [
  {
   "cell_type": "code",
   "execution_count": 1,
   "id": "f0f9c8ac-a395-4e8a-95ae-6f997faca3ca",
   "metadata": {},
   "outputs": [
    {
     "name": "stdout",
     "output_type": "stream",
     "text": [
      "Defaulting to user installation because normal site-packages is not writeable\n",
      "Requirement already satisfied: scikit-learn in c:\\programdata\\anaconda3\\lib\\site-packages (1.0.2)\n",
      "Requirement already satisfied: scipy>=1.1.0 in c:\\programdata\\anaconda3\\lib\\site-packages (from scikit-learn) (1.9.1)\n",
      "Requirement already satisfied: numpy>=1.14.6 in c:\\users\\admin\\appdata\\roaming\\python\\python39\\site-packages (from scikit-learn) (1.24.4)\n",
      "Requirement already satisfied: threadpoolctl>=2.0.0 in c:\\programdata\\anaconda3\\lib\\site-packages (from scikit-learn) (2.2.0)\n",
      "Requirement already satisfied: joblib>=0.11 in c:\\programdata\\anaconda3\\lib\\site-packages (from scikit-learn) (1.1.0)\n",
      "Defaulting to user installation because normal site-packages is not writeable\n",
      "Requirement already satisfied: missingno in c:\\users\\admin\\appdata\\roaming\\python\\python39\\site-packages (0.5.2)\n",
      "Requirement already satisfied: scipy in c:\\programdata\\anaconda3\\lib\\site-packages (from missingno) (1.9.1)\n",
      "Requirement already satisfied: numpy in c:\\users\\admin\\appdata\\roaming\\python\\python39\\site-packages (from missingno) (1.24.4)\n",
      "Requirement already satisfied: matplotlib in c:\\programdata\\anaconda3\\lib\\site-packages (from missingno) (3.5.2)\n",
      "Requirement already satisfied: seaborn in c:\\programdata\\anaconda3\\lib\\site-packages (from missingno) (0.11.2)\n",
      "Requirement already satisfied: pyparsing>=2.2.1 in c:\\programdata\\anaconda3\\lib\\site-packages (from matplotlib->missingno) (3.0.9)\n",
      "Requirement already satisfied: fonttools>=4.22.0 in c:\\programdata\\anaconda3\\lib\\site-packages (from matplotlib->missingno) (4.25.0)\n",
      "Requirement already satisfied: cycler>=0.10 in c:\\programdata\\anaconda3\\lib\\site-packages (from matplotlib->missingno) (0.11.0)\n",
      "Requirement already satisfied: pillow>=6.2.0 in c:\\programdata\\anaconda3\\lib\\site-packages (from matplotlib->missingno) (9.2.0)\n",
      "Requirement already satisfied: packaging>=20.0 in c:\\programdata\\anaconda3\\lib\\site-packages (from matplotlib->missingno) (21.3)\n",
      "Requirement already satisfied: kiwisolver>=1.0.1 in c:\\programdata\\anaconda3\\lib\\site-packages (from matplotlib->missingno) (1.4.2)\n",
      "Requirement already satisfied: python-dateutil>=2.7 in c:\\programdata\\anaconda3\\lib\\site-packages (from matplotlib->missingno) (2.8.2)\n",
      "Requirement already satisfied: pandas>=0.23 in c:\\programdata\\anaconda3\\lib\\site-packages (from seaborn->missingno) (1.4.4)\n",
      "Requirement already satisfied: pytz>=2020.1 in c:\\programdata\\anaconda3\\lib\\site-packages (from pandas>=0.23->seaborn->missingno) (2022.1)\n",
      "Requirement already satisfied: six>=1.5 in c:\\programdata\\anaconda3\\lib\\site-packages (from python-dateutil>=2.7->matplotlib->missingno) (1.16.0)\n"
     ]
    }
   ],
   "source": [
    "!pip install scikit-learn\n",
    "!pip install missingno"
   ]
  },
  {
   "cell_type": "code",
   "execution_count": 2,
   "id": "221e80ae-da8a-47a5-a040-5a3540bbc8e0",
   "metadata": {},
   "outputs": [],
   "source": [
    "import numpy as np # linear algebra\n",
    "import pandas as pd # data processing, CSV file I/O (e.g. pd.read_csv)\n",
    "import missingno as msno\n",
    "from sklearn.preprocessing import StandardScaler\n",
    "from sklearn.naive_bayes import GaussianNB\n",
    "import matplotlib.pyplot as plt\n",
    "import seaborn as sns\n",
    "from warnings import simplefilter\n",
    "simplefilter(\"ignore\")"
   ]
  },
  {
   "cell_type": "code",
   "execution_count": 3,
   "id": "68d4e2d1-bece-4987-be12-0adf50b82827",
   "metadata": {},
   "outputs": [],
   "source": [
    "data=pd.read_csv('E:/ML/RT_IOT2022.csv')"
   ]
  },
  {
   "cell_type": "code",
   "execution_count": 4,
   "id": "ea90bbf4-cf4e-4add-822f-6937b114fefb",
   "metadata": {},
   "outputs": [],
   "source": [
    "# Handling missing values\n",
    "data = data.dropna()"
   ]
  },
  {
   "cell_type": "code",
   "execution_count": 5,
   "id": "178436b7-513d-468e-a9ec-89ec682d13d9",
   "metadata": {},
   "outputs": [
    {
     "name": "stdout",
     "output_type": "stream",
     "text": [
      "proto\n",
      "tcp     110427\n",
      "udp      12633\n",
      "icmp        57\n",
      "Name: proto, dtype: int64\n",
      "----------------------------\n",
      "service\n",
      "-         102861\n",
      "dns         9753\n",
      "mqtt        4132\n",
      "http        3464\n",
      "ssl         2663\n",
      "ntp          121\n",
      "dhcp          50\n",
      "irc           43\n",
      "ssh           28\n",
      "radius         2\n",
      "Name: service, dtype: int64\n",
      "----------------------------\n",
      "Attack_type\n",
      "DOS_SYN_Hping                 94659\n",
      "Thing_Speak                    8108\n",
      "ARP_poisioning                 7750\n",
      "MQTT_Publish                   4146\n",
      "NMAP_UDP_SCAN                  2590\n",
      "NMAP_XMAS_TREE_SCAN            2010\n",
      "NMAP_OS_DETECTION              2000\n",
      "NMAP_TCP_scan                  1002\n",
      "DDOS_Slowloris                  534\n",
      "Wipro_bulb                      253\n",
      "Metasploit_Brute_Force_SSH       37\n",
      "NMAP_FIN_SCAN                    28\n",
      "Name: Attack_type, dtype: int64\n",
      "----------------------------\n"
     ]
    }
   ],
   "source": [
    "# Encoding categorical variables if there are any\n",
    "categorical_columns = data.select_dtypes(include=['object']).columns\n",
    "\n",
    "for column in categorical_columns:\n",
    "    print(column)\n",
    "    print(data[column].value_counts())\n",
    "    print(\"----------------------------\")"
   ]
  },
  {
   "cell_type": "code",
   "execution_count": 6,
   "id": "f0b1c32f-b099-4df5-9f20-924e862a211e",
   "metadata": {},
   "outputs": [],
   "source": [
    "from sklearn.preprocessing import LabelEncoder\n",
    "# Initialize LabelEncoder\n",
    "label_encoder = LabelEncoder()"
   ]
  },
  {
   "cell_type": "code",
   "execution_count": 7,
   "id": "5aedb0f6-3062-4b58-bd5a-b3288214c459",
   "metadata": {},
   "outputs": [],
   "source": [
    "# Delete the target label column and the id classification column for the train data\n",
    "X = data.drop(columns=['Attack_type'])\n",
    "X.drop(columns=['Unnamed: 0', 'id.orig_p', 'id.resp_p'], inplace=True)"
   ]
  },
  {
   "cell_type": "code",
   "execution_count": 8,
   "id": "b6fcbf67-3add-4f2b-9d56-da27cedbe3eb",
   "metadata": {},
   "outputs": [],
   "source": [
    "# encode input for non-numeric columns\n",
    "X['proto'] = label_encoder.fit_transform(X['proto'])\n",
    "X['service'] = label_encoder.fit_transform(X['service'])\n",
    "target='Attack_type'\n",
    "y = label_encoder.fit_transform(data[target])"
   ]
  },
  {
   "cell_type": "code",
   "execution_count": 9,
   "id": "012117b1-7f75-4eaf-a714-f7870c77565a",
   "metadata": {},
   "outputs": [],
   "source": [
    "# Divide the data into training set and test set\n",
    "from sklearn.model_selection import train_test_split\n",
    "X_train, X_test, y_train, y_test = train_test_split(X, y, test_size=0.2, random_state=42)"
   ]
  },
  {
   "cell_type": "code",
   "execution_count": 10,
   "id": "bc5ca2d4-ccad-4968-a72b-3e5f9bd53891",
   "metadata": {},
   "outputs": [],
   "source": [
    "# Standardize the features\n",
    "scaler = StandardScaler()\n",
    "X_train = scaler.fit_transform(X_train)\n",
    "X_test = scaler.transform(X_test)"
   ]
  },
  {
   "cell_type": "code",
   "execution_count": 11,
   "id": "909baad4-f68c-4d00-a19c-31290e959ff7",
   "metadata": {},
   "outputs": [],
   "source": [
    "from sklearn import svm\n",
    "classifier=svm.SVC(kernel='linear', gamma='auto', C=2)"
   ]
  },
  {
   "cell_type": "code",
   "execution_count": 12,
   "id": "f9bf711c-ff4e-45e3-94b2-35c02710f9a9",
   "metadata": {},
   "outputs": [
    {
     "data": {
      "text/plain": [
       "SVC(C=2, gamma='auto', kernel='linear')"
      ]
     },
     "execution_count": 12,
     "metadata": {},
     "output_type": "execute_result"
    }
   ],
   "source": [
    "# Train the model\n",
    "classifier.fit(X_train,y_train)"
   ]
  },
  {
   "cell_type": "code",
   "execution_count": 14,
   "id": "6749c979-d5f1-4b2f-9dff-e7967d4ad0e6",
   "metadata": {},
   "outputs": [
    {
     "name": "stdout",
     "output_type": "stream",
     "text": [
      "Accuracy: 0.9925276153346329\n",
      "\n",
      "Classification Report:\n",
      "               precision    recall  f1-score   support\n",
      "\n",
      "           0       0.95      0.97      0.96      1578\n",
      "           1       0.99      0.71      0.83       100\n",
      "           2       1.00      1.00      1.00     18897\n",
      "           3       1.00      1.00      1.00       871\n",
      "           4       0.80      0.67      0.73         6\n",
      "           5       1.00      0.67      0.80         3\n",
      "           6       1.00      1.00      1.00       393\n",
      "           7       1.00      1.00      1.00       220\n",
      "           8       0.95      0.97      0.96       489\n",
      "           9       1.00      0.99      1.00       384\n",
      "          10       0.96      0.96      0.96      1625\n",
      "          11       0.97      0.66      0.78        58\n",
      "\n",
      "    accuracy                           0.99     24624\n",
      "   macro avg       0.97      0.88      0.92     24624\n",
      "weighted avg       0.99      0.99      0.99     24624\n",
      "\n",
      "\n",
      "Confusion Matrix:\n",
      " [[ 1531     0     0     0     1     0     0     0     0     0    46     0]\n",
      " [    3    71     0     0     0     0     0     0    26     0     0     0]\n",
      " [    0     0 18897     0     0     0     0     0     0     0     0     0]\n",
      " [    1     0     0   870     0     0     0     0     0     0     0     0]\n",
      " [    2     0     0     0     4     0     0     0     0     0     0     0]\n",
      " [    1     0     0     0     0     2     0     0     0     0     0     0]\n",
      " [    0     0     0     0     0     0   393     0     0     0     0     0]\n",
      " [    0     0     0     0     0     0     0   220     0     0     0     0]\n",
      " [   12     1     0     0     0     0     0     0   474     0     2     0]\n",
      " [    3     0     0     0     0     0     0     0     0   381     0     0]\n",
      " [   63     0     0     1     0     0     0     0     1     0  1559     1]\n",
      " [    4     0     0     1     0     0     1     0     0     0    14    38]]\n"
     ]
    },
    {
     "data": {
      "image/png": "[encoded data removed]",
      "text/plain": [
       "<Figure size 800x600 with 2 Axes>"
      ]
     },
     "metadata": {},
     "output_type": "display_data"
    }
   ],
   "source": [
    "from sklearn.metrics import classification_report, confusion_matrix, accuracy_score\n",
    "# Make predictions\n",
    "y_pred = classifier.predict(X_test)\n",
    "\n",
    "# Evaluate the model\n",
    "print(\"Accuracy:\", accuracy_score(y_test, y_pred))\n",
    "print(\"\\nClassification Report:\\n\", classification_report(y_test, y_pred))\n",
    "print(\"\\nConfusion Matrix:\\n\", confusion_matrix(y_test, y_pred))\n",
    "\n",
    "# Visualize the confusion matrix\n",
    "plt.figure(figsize=(8, 6))\n",
    "sns.heatmap(confusion_matrix(y_test, y_pred), annot=True, fmt='d', cmap='Blues')\n",
    "plt.xlabel('Predicted Label')\n",
    "plt.ylabel('True Label')\n",
    "plt.title('Multi-class Confusion Matrix of SVM')\n",
    "plt.show()"
   ]
  },
  {
   "cell_type": "code",
   "execution_count": null,
   "id": "3e5a31c5-3f89-499e-baa9-372d33c67c6d",
   "metadata": {},
   "outputs": [],
   "source": []
  }
 ],
 "metadata": {
  "kernelspec": {
   "display_name": "Python 3 (ipykernel)",
   "language": "python",
   "name": "python3"
  },
  "language_info": {
   "codemirror_mode": {
    "name": "ipython",
    "version": 3
   },
   "file_extension": ".py",
   "mimetype": "text/x-python",
   "name": "python",
   "nbconvert_exporter": "python",
   "pygments_lexer": "ipython3",
   "version": "3.9.13"
  }
 },
 "nbformat": 4,
 "nbformat_minor": 5
}
